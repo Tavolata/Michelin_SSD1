{
 "cells": [
  {
   "cell_type": "markdown",
   "metadata": {
    "id": "2RHplVF91rzj"
   },
   "source": [
    "# SSD Evaluation Tutorial\n",
    "\n",
    "This is a brief tutorial that explains how compute the average precisions for any trained SSD model using the `Evaluator` class. The `Evaluator` computes the average precisions according to the Pascal VOC pre-2010 or post-2010 detection evaluation algorithms. You can find details about these computation methods [here](http://host.robots.ox.ac.uk/pascal/VOC/voc2012/htmldoc/devkit_doc.html#sec:ap).\n",
    "\n",
    "As an example we'll evaluate an SSD300 on the Pascal VOC 2007 `test` dataset, but note that the `Evaluator` works for any SSD model and any dataset that is compatible with the `DataGenerator`. If you would like to run the evaluation on a different model and/or dataset, the procedure is analogous to what is shown below, you just have to build the appropriate model and load the relevant dataset.\n",
    "\n",
    "Note: I that in case you would like to evaluate a model on MS COCO, I would recommend to follow the [MS COCO evaluation notebook](https://github.com/pierluigiferrari/ssd_keras/blob/master/ssd300_evaluation_COCO.ipynb) instead, because it can produce the results format required by the MS COCO evaluation server and uses the official MS COCO evaluation code, which computes the mAP slightly differently from the Pascal VOC method.\n",
    "\n",
    "Note: In case you want to evaluate any of the provided trained models, make sure that you build the respective model with the correct set of scaling factors to reproduce the official results. The models that were trained on MS COCO and fine-tuned on Pascal VOC require the MS COCO scaling factors, not the Pascal VOC scaling factors."
   ]
  },
  {
   "cell_type": "markdown",
   "metadata": {
    "id": "xOnJQSYeIJ-k"
   },
   "source": [
    "## ONLY IF ON GOOGLE COLLAB\n",
    "\n",
    "Don't run these cells if you're working locally, with the environment from requirements.txt\n",
    "\n",
    "First, need to adjust the python environement"
   ]
  },
  {
   "cell_type": "code",
   "execution_count": null,
   "metadata": {
    "colab": {
     "base_uri": "https://localhost:8080/",
     "height": 1000
    },
    "executionInfo": {
     "elapsed": 121114,
     "status": "ok",
     "timestamp": 1634825352957,
     "user": {
      "displayName": "Vincent Arvis",
      "photoUrl": "https://lh3.googleusercontent.com/a/default-user=s64",
      "userId": "03022435005707508571"
     },
     "user_tz": -120
    },
    "id": "OUEmcVtXIKNE",
    "outputId": "db7d642c-9aa5-47e0-9e61-b3d14be82c9c"
   },
   "outputs": [
    {
     "name": "stdout",
     "output_type": "stream",
     "text": [
      "Found existing installation: tensorflow 2.6.0\n",
      "Uninstalling tensorflow-2.6.0:\n",
      "  Successfully uninstalled tensorflow-2.6.0\n",
      "Collecting keras==2.2.4\n",
      "  Downloading Keras-2.2.4-py2.py3-none-any.whl (312 kB)\n",
      "\u001b[K     |████████████████████████████████| 312 kB 30.1 MB/s \n",
      "\u001b[?25hRequirement already satisfied: h5py in /usr/local/lib/python3.7/dist-packages (from keras==2.2.4) (3.1.0)\n",
      "Requirement already satisfied: numpy>=1.9.1 in /usr/local/lib/python3.7/dist-packages (from keras==2.2.4) (1.19.5)\n",
      "Requirement already satisfied: scipy>=0.14 in /usr/local/lib/python3.7/dist-packages (from keras==2.2.4) (1.4.1)\n",
      "Collecting keras-applications>=1.0.6\n",
      "  Downloading Keras_Applications-1.0.8-py3-none-any.whl (50 kB)\n",
      "\u001b[K     |████████████████████████████████| 50 kB 7.0 MB/s \n",
      "\u001b[?25hRequirement already satisfied: six>=1.9.0 in /usr/local/lib/python3.7/dist-packages (from keras==2.2.4) (1.15.0)\n",
      "Requirement already satisfied: pyyaml in /usr/local/lib/python3.7/dist-packages (from keras==2.2.4) (3.13)\n",
      "Requirement already satisfied: keras-preprocessing>=1.0.5 in /usr/local/lib/python3.7/dist-packages (from keras==2.2.4) (1.1.2)\n",
      "Requirement already satisfied: cached-property in /usr/local/lib/python3.7/dist-packages (from h5py->keras==2.2.4) (1.5.2)\n",
      "Installing collected packages: keras-applications, keras\n",
      "  Attempting uninstall: keras\n",
      "    Found existing installation: keras 2.6.0\n",
      "    Uninstalling keras-2.6.0:\n",
      "      Successfully uninstalled keras-2.6.0\n",
      "Successfully installed keras-2.2.4 keras-applications-1.0.8\n",
      "Collecting tensorflow==1.15.5\n",
      "  Downloading tensorflow-1.15.5-cp37-cp37m-manylinux2010_x86_64.whl (110.5 MB)\n",
      "\u001b[K     |████████████████████████████████| 110.5 MB 1.2 kB/s \n",
      "\u001b[?25hRequirement already satisfied: keras-preprocessing>=1.0.5 in /usr/local/lib/python3.7/dist-packages (from tensorflow==1.15.5) (1.1.2)\n",
      "Requirement already satisfied: wheel>=0.26 in /usr/local/lib/python3.7/dist-packages (from tensorflow==1.15.5) (0.37.0)\n",
      "Collecting tensorflow-estimator==1.15.1\n",
      "  Downloading tensorflow_estimator-1.15.1-py2.py3-none-any.whl (503 kB)\n",
      "\u001b[K     |████████████████████████████████| 503 kB 42.2 MB/s \n",
      "\u001b[?25hRequirement already satisfied: six>=1.10.0 in /usr/local/lib/python3.7/dist-packages (from tensorflow==1.15.5) (1.15.0)\n",
      "Collecting numpy<1.19.0,>=1.16.0\n",
      "  Downloading numpy-1.18.5-cp37-cp37m-manylinux1_x86_64.whl (20.1 MB)\n",
      "\u001b[K     |████████████████████████████████| 20.1 MB 1.2 MB/s \n",
      "\u001b[?25hRequirement already satisfied: absl-py>=0.7.0 in /usr/local/lib/python3.7/dist-packages (from tensorflow==1.15.5) (0.12.0)\n",
      "Requirement already satisfied: protobuf>=3.6.1 in /usr/local/lib/python3.7/dist-packages (from tensorflow==1.15.5) (3.17.3)\n",
      "Requirement already satisfied: grpcio>=1.8.6 in /usr/local/lib/python3.7/dist-packages (from tensorflow==1.15.5) (1.41.0)\n",
      "Requirement already satisfied: termcolor>=1.1.0 in /usr/local/lib/python3.7/dist-packages (from tensorflow==1.15.5) (1.1.0)\n",
      "Requirement already satisfied: astor>=0.6.0 in /usr/local/lib/python3.7/dist-packages (from tensorflow==1.15.5) (0.8.1)\n",
      "Requirement already satisfied: google-pasta>=0.1.6 in /usr/local/lib/python3.7/dist-packages (from tensorflow==1.15.5) (0.2.0)\n",
      "Requirement already satisfied: opt-einsum>=2.3.2 in /usr/local/lib/python3.7/dist-packages (from tensorflow==1.15.5) (3.3.0)\n",
      "Collecting tensorboard<1.16.0,>=1.15.0\n",
      "  Downloading tensorboard-1.15.0-py3-none-any.whl (3.8 MB)\n",
      "\u001b[K     |████████████████████████████████| 3.8 MB 40.1 MB/s \n",
      "\u001b[?25hCollecting h5py<=2.10.0\n",
      "  Downloading h5py-2.10.0-cp37-cp37m-manylinux1_x86_64.whl (2.9 MB)\n",
      "\u001b[K     |████████████████████████████████| 2.9 MB 43.5 MB/s \n",
      "\u001b[?25hCollecting gast==0.2.2\n",
      "  Downloading gast-0.2.2.tar.gz (10 kB)\n",
      "Requirement already satisfied: keras-applications>=1.0.8 in /usr/local/lib/python3.7/dist-packages (from tensorflow==1.15.5) (1.0.8)\n",
      "Requirement already satisfied: wrapt>=1.11.1 in /usr/local/lib/python3.7/dist-packages (from tensorflow==1.15.5) (1.12.1)\n",
      "Requirement already satisfied: setuptools>=41.0.0 in /usr/local/lib/python3.7/dist-packages (from tensorboard<1.16.0,>=1.15.0->tensorflow==1.15.5) (57.4.0)\n",
      "Requirement already satisfied: markdown>=2.6.8 in /usr/local/lib/python3.7/dist-packages (from tensorboard<1.16.0,>=1.15.0->tensorflow==1.15.5) (3.3.4)\n",
      "Requirement already satisfied: werkzeug>=0.11.15 in /usr/local/lib/python3.7/dist-packages (from tensorboard<1.16.0,>=1.15.0->tensorflow==1.15.5) (1.0.1)\n",
      "Requirement already satisfied: importlib-metadata in /usr/local/lib/python3.7/dist-packages (from markdown>=2.6.8->tensorboard<1.16.0,>=1.15.0->tensorflow==1.15.5) (4.8.1)\n",
      "Requirement already satisfied: typing-extensions>=3.6.4 in /usr/local/lib/python3.7/dist-packages (from importlib-metadata->markdown>=2.6.8->tensorboard<1.16.0,>=1.15.0->tensorflow==1.15.5) (3.7.4.3)\n",
      "Requirement already satisfied: zipp>=0.5 in /usr/local/lib/python3.7/dist-packages (from importlib-metadata->markdown>=2.6.8->tensorboard<1.16.0,>=1.15.0->tensorflow==1.15.5) (3.6.0)\n",
      "Building wheels for collected packages: gast\n",
      "  Building wheel for gast (setup.py) ... \u001b[?25l\u001b[?25hdone\n",
      "  Created wheel for gast: filename=gast-0.2.2-py3-none-any.whl size=7554 sha256=a95ef4d1dd2beb951ab8752836f4afc47bdea07a6e673083386415927f1aca81\n",
      "  Stored in directory: /root/.cache/pip/wheels/21/7f/02/420f32a803f7d0967b48dd823da3f558c5166991bfd204eef3\n",
      "Successfully built gast\n",
      "Installing collected packages: numpy, h5py, tensorflow-estimator, tensorboard, gast, tensorflow\n",
      "  Attempting uninstall: numpy\n",
      "    Found existing installation: numpy 1.19.5\n",
      "    Uninstalling numpy-1.19.5:\n",
      "      Successfully uninstalled numpy-1.19.5\n",
      "  Attempting uninstall: h5py\n",
      "    Found existing installation: h5py 3.1.0\n",
      "    Uninstalling h5py-3.1.0:\n",
      "      Successfully uninstalled h5py-3.1.0\n",
      "  Attempting uninstall: tensorflow-estimator\n",
      "    Found existing installation: tensorflow-estimator 2.6.0\n",
      "    Uninstalling tensorflow-estimator-2.6.0:\n",
      "      Successfully uninstalled tensorflow-estimator-2.6.0\n",
      "  Attempting uninstall: tensorboard\n",
      "    Found existing installation: tensorboard 2.6.0\n",
      "    Uninstalling tensorboard-2.6.0:\n",
      "      Successfully uninstalled tensorboard-2.6.0\n",
      "  Attempting uninstall: gast\n",
      "    Found existing installation: gast 0.4.0\n",
      "    Uninstalling gast-0.4.0:\n",
      "      Successfully uninstalled gast-0.4.0\n",
      "\u001b[31mERROR: pip's dependency resolver does not currently take into account all the packages that are installed. This behaviour is the source of the following dependency conflicts.\n",
      "tensorflow-probability 0.14.1 requires gast>=0.3.2, but you have gast 0.2.2 which is incompatible.\n",
      "kapre 0.3.5 requires tensorflow>=2.0.0, but you have tensorflow 1.15.5 which is incompatible.\n",
      "datascience 0.10.6 requires folium==0.2.1, but you have folium 0.8.3 which is incompatible.\n",
      "albumentations 0.1.12 requires imgaug<0.2.7,>=0.2.5, but you have imgaug 0.2.9 which is incompatible.\u001b[0m\n",
      "Successfully installed gast-0.2.2 h5py-2.10.0 numpy-1.18.5 tensorboard-1.15.0 tensorflow-1.15.5 tensorflow-estimator-1.15.1\n"
     ]
    },
    {
     "data": {
      "application/vnd.colab-display-data+json": {
       "pip_warning": {
        "packages": [
         "numpy"
        ]
       }
      }
     },
     "metadata": {},
     "output_type": "display_data"
    },
    {
     "name": "stdout",
     "output_type": "stream",
     "text": [
      "Collecting tensorflow-gpu==1.15.5\n",
      "  Downloading tensorflow_gpu-1.15.5-cp37-cp37m-manylinux2010_x86_64.whl (411.0 MB)\n",
      "\u001b[K     |████████████████████████████████| 411.0 MB 17 kB/s \n",
      "\u001b[?25hRequirement already satisfied: tensorflow-estimator==1.15.1 in /usr/local/lib/python3.7/dist-packages (from tensorflow-gpu==1.15.5) (1.15.1)\n",
      "Requirement already satisfied: six>=1.10.0 in /usr/local/lib/python3.7/dist-packages (from tensorflow-gpu==1.15.5) (1.15.0)\n",
      "Requirement already satisfied: h5py<=2.10.0 in /usr/local/lib/python3.7/dist-packages (from tensorflow-gpu==1.15.5) (2.10.0)\n",
      "Requirement already satisfied: wrapt>=1.11.1 in /usr/local/lib/python3.7/dist-packages (from tensorflow-gpu==1.15.5) (1.12.1)\n",
      "Requirement already satisfied: tensorboard<1.16.0,>=1.15.0 in /usr/local/lib/python3.7/dist-packages (from tensorflow-gpu==1.15.5) (1.15.0)\n",
      "Requirement already satisfied: protobuf>=3.6.1 in /usr/local/lib/python3.7/dist-packages (from tensorflow-gpu==1.15.5) (3.17.3)\n",
      "Requirement already satisfied: google-pasta>=0.1.6 in /usr/local/lib/python3.7/dist-packages (from tensorflow-gpu==1.15.5) (0.2.0)\n",
      "Requirement already satisfied: opt-einsum>=2.3.2 in /usr/local/lib/python3.7/dist-packages (from tensorflow-gpu==1.15.5) (3.3.0)\n",
      "Requirement already satisfied: termcolor>=1.1.0 in /usr/local/lib/python3.7/dist-packages (from tensorflow-gpu==1.15.5) (1.1.0)\n",
      "Requirement already satisfied: absl-py>=0.7.0 in /usr/local/lib/python3.7/dist-packages (from tensorflow-gpu==1.15.5) (0.12.0)\n",
      "Requirement already satisfied: wheel>=0.26 in /usr/local/lib/python3.7/dist-packages (from tensorflow-gpu==1.15.5) (0.37.0)\n",
      "Requirement already satisfied: keras-preprocessing>=1.0.5 in /usr/local/lib/python3.7/dist-packages (from tensorflow-gpu==1.15.5) (1.1.2)\n",
      "Requirement already satisfied: keras-applications>=1.0.8 in /usr/local/lib/python3.7/dist-packages (from tensorflow-gpu==1.15.5) (1.0.8)\n",
      "Requirement already satisfied: grpcio>=1.8.6 in /usr/local/lib/python3.7/dist-packages (from tensorflow-gpu==1.15.5) (1.41.0)\n",
      "Requirement already satisfied: numpy<1.19.0,>=1.16.0 in /usr/local/lib/python3.7/dist-packages (from tensorflow-gpu==1.15.5) (1.18.5)\n",
      "Requirement already satisfied: astor>=0.6.0 in /usr/local/lib/python3.7/dist-packages (from tensorflow-gpu==1.15.5) (0.8.1)\n",
      "Requirement already satisfied: gast==0.2.2 in /usr/local/lib/python3.7/dist-packages (from tensorflow-gpu==1.15.5) (0.2.2)\n",
      "Requirement already satisfied: markdown>=2.6.8 in /usr/local/lib/python3.7/dist-packages (from tensorboard<1.16.0,>=1.15.0->tensorflow-gpu==1.15.5) (3.3.4)\n",
      "Requirement already satisfied: setuptools>=41.0.0 in /usr/local/lib/python3.7/dist-packages (from tensorboard<1.16.0,>=1.15.0->tensorflow-gpu==1.15.5) (57.4.0)\n",
      "Requirement already satisfied: werkzeug>=0.11.15 in /usr/local/lib/python3.7/dist-packages (from tensorboard<1.16.0,>=1.15.0->tensorflow-gpu==1.15.5) (1.0.1)\n",
      "Requirement already satisfied: importlib-metadata in /usr/local/lib/python3.7/dist-packages (from markdown>=2.6.8->tensorboard<1.16.0,>=1.15.0->tensorflow-gpu==1.15.5) (4.8.1)\n",
      "Requirement already satisfied: zipp>=0.5 in /usr/local/lib/python3.7/dist-packages (from importlib-metadata->markdown>=2.6.8->tensorboard<1.16.0,>=1.15.0->tensorflow-gpu==1.15.5) (3.6.0)\n",
      "Requirement already satisfied: typing-extensions>=3.6.4 in /usr/local/lib/python3.7/dist-packages (from importlib-metadata->markdown>=2.6.8->tensorboard<1.16.0,>=1.15.0->tensorflow-gpu==1.15.5) (3.7.4.3)\n",
      "Installing collected packages: tensorflow-gpu\n",
      "Successfully installed tensorflow-gpu-1.15.5\n",
      "Requirement already satisfied: scipy in /usr/local/lib/python3.7/dist-packages (1.4.1)\n",
      "Requirement already satisfied: numpy>=1.13.3 in /usr/local/lib/python3.7/dist-packages (from scipy) (1.18.5)\n"
     ]
    }
   ],
   "source": [
    "# !pip uninstall -y tensorflow\n",
    "# !pip install keras==2.2.4\n",
    "# !pip install tensorflow==1.15.5\n",
    "# !pip install tensorflow-gpu==1.15.5\n",
    "# !pip install scipy"
   ]
  },
  {
   "cell_type": "code",
   "execution_count": null,
   "metadata": {
    "colab": {
     "base_uri": "https://localhost:8080/"
    },
    "executionInfo": {
     "elapsed": 1432,
     "status": "ok",
     "timestamp": 1634305755423,
     "user": {
      "displayName": "Vincent Arvis",
      "photoUrl": "https://lh3.googleusercontent.com/a/default-user=s64",
      "userId": "03022435005707508571"
     },
     "user_tz": -120
    },
    "id": "6XuWG1aaNqm6",
    "outputId": "6aaf9316-8209-473e-a5bf-56959c474561"
   },
   "outputs": [
    {
     "name": "stdout",
     "output_type": "stream",
     "text": [
      "Package                       Version\n",
      "----------------------------- --------------\n",
      "absl-py                       0.12.0\n",
      "alabaster                     0.7.12\n",
      "albumentations                0.1.12\n",
      "altair                        4.1.0\n",
      "appdirs                       1.4.4\n",
      "argcomplete                   1.12.3\n",
      "argon2-cffi                   21.1.0\n",
      "arviz                         0.11.4\n",
      "astor                         0.8.1\n",
      "astropy                       4.3.1\n",
      "astunparse                    1.6.3\n",
      "atari-py                      0.2.9\n",
      "atomicwrites                  1.4.0\n",
      "attrs                         21.2.0\n",
      "audioread                     2.1.9\n",
      "autograd                      1.3\n",
      "Babel                         2.9.1\n",
      "backcall                      0.2.0\n",
      "beautifulsoup4                4.6.3\n",
      "bleach                        4.1.0\n",
      "blis                          0.4.1\n",
      "bokeh                         2.3.3\n",
      "Bottleneck                    1.3.2\n",
      "branca                        0.4.2\n",
      "bs4                           0.0.1\n",
      "CacheControl                  0.12.6\n",
      "cached-property               1.5.2\n",
      "cachetools                    4.2.4\n",
      "catalogue                     1.0.0\n",
      "certifi                       2021.5.30\n",
      "cffi                          1.14.6\n",
      "cftime                        1.5.1\n",
      "chardet                       3.0.4\n",
      "charset-normalizer            2.0.6\n",
      "clang                         5.0\n",
      "click                         7.1.2\n",
      "cloudpickle                   1.3.0\n",
      "cmake                         3.12.0\n",
      "cmdstanpy                     0.9.5\n",
      "colorcet                      2.0.6\n",
      "colorlover                    0.3.0\n",
      "community                     1.0.0b1\n",
      "contextlib2                   0.5.5\n",
      "convertdate                   2.3.2\n",
      "coverage                      3.7.1\n",
      "coveralls                     0.5\n",
      "crcmod                        1.7\n",
      "cufflinks                     0.17.3\n",
      "cvxopt                        1.2.7\n",
      "cvxpy                         1.0.31\n",
      "cycler                        0.10.0\n",
      "cymem                         2.0.5\n",
      "Cython                        0.29.24\n",
      "daft                          0.0.4\n",
      "dask                          2.12.0\n",
      "datascience                   0.10.6\n",
      "debugpy                       1.0.0\n",
      "decorator                     4.4.2\n",
      "defusedxml                    0.7.1\n",
      "descartes                     1.1.0\n",
      "dill                          0.3.4\n",
      "distributed                   1.25.3\n",
      "dlib                          19.18.0\n",
      "dm-tree                       0.1.6\n",
      "docopt                        0.6.2\n",
      "docutils                      0.17.1\n",
      "dopamine-rl                   1.0.5\n",
      "earthengine-api               0.1.284\n",
      "easydict                      1.9\n",
      "ecos                          2.0.7.post1\n",
      "editdistance                  0.5.3\n",
      "en-core-web-sm                2.2.5\n",
      "entrypoints                   0.3\n",
      "ephem                         4.1\n",
      "et-xmlfile                    1.1.0\n",
      "fa2                           0.3.5\n",
      "fastai                        1.0.61\n",
      "fastdtw                       0.3.4\n",
      "fastprogress                  1.0.0\n",
      "fastrlock                     0.6\n",
      "fbprophet                     0.7.1\n",
      "feather-format                0.4.1\n",
      "filelock                      3.3.0\n",
      "firebase-admin                4.4.0\n",
      "fix-yahoo-finance             0.0.22\n",
      "Flask                         1.1.4\n",
      "flatbuffers                   1.12\n",
      "folium                        0.8.3\n",
      "future                        0.16.0\n",
      "gast                          0.2.2\n",
      "GDAL                          2.2.2\n",
      "gdown                         3.6.4\n",
      "gensim                        3.6.0\n",
      "geographiclib                 1.52\n",
      "geopy                         1.17.0\n",
      "gin-config                    0.4.0\n",
      "glob2                         0.7\n",
      "google                        2.0.3\n",
      "google-api-core               1.26.3\n",
      "google-api-python-client      1.12.8\n",
      "google-auth                   1.35.0\n",
      "google-auth-httplib2          0.0.4\n",
      "google-auth-oauthlib          0.4.6\n",
      "google-cloud-bigquery         1.21.0\n",
      "google-cloud-bigquery-storage 1.1.0\n",
      "google-cloud-core             1.0.3\n",
      "google-cloud-datastore        1.8.0\n",
      "google-cloud-firestore        1.7.0\n",
      "google-cloud-language         1.2.0\n",
      "google-cloud-storage          1.18.1\n",
      "google-cloud-translate        1.5.0\n",
      "google-colab                  1.0.0\n",
      "google-pasta                  0.2.0\n",
      "google-resumable-media        0.4.1\n",
      "googleapis-common-protos      1.53.0\n",
      "googledrivedownloader         0.4\n",
      "graphviz                      0.10.1\n",
      "greenlet                      1.1.2\n",
      "grpcio                        1.41.0\n",
      "gspread                       3.0.1\n",
      "gspread-dataframe             3.0.8\n",
      "gym                           0.17.3\n",
      "h5py                          2.10.0\n",
      "HeapDict                      1.0.1\n",
      "hijri-converter               2.2.2\n",
      "holidays                      0.10.5.2\n",
      "holoviews                     1.14.6\n",
      "html5lib                      1.0.1\n",
      "httpimport                    0.5.18\n",
      "httplib2                      0.17.4\n",
      "httplib2shim                  0.0.3\n",
      "humanize                      0.5.1\n",
      "hyperopt                      0.1.2\n",
      "ideep4py                      2.0.0.post3\n",
      "idna                          2.10\n",
      "imageio                       2.4.1\n",
      "imagesize                     1.2.0\n",
      "imbalanced-learn              0.4.3\n",
      "imblearn                      0.0\n",
      "imgaug                        0.2.9\n",
      "importlib-metadata            4.8.1\n",
      "importlib-resources           5.2.2\n",
      "imutils                       0.5.4\n",
      "inflect                       2.1.0\n",
      "iniconfig                     1.1.1\n",
      "intel-openmp                  2021.4.0\n",
      "intervaltree                  2.1.0\n",
      "ipykernel                     4.10.1\n",
      "ipython                       5.5.0\n",
      "ipython-genutils              0.2.0\n",
      "ipython-sql                   0.3.9\n",
      "ipywidgets                    7.6.5\n",
      "itsdangerous                  1.1.0\n",
      "jax                           0.2.21\n",
      "jaxlib                        0.1.71+cuda111\n",
      "jdcal                         1.4.1\n",
      "jedi                          0.18.0\n",
      "jieba                         0.42.1\n",
      "Jinja2                        2.11.3\n",
      "joblib                        1.0.1\n",
      "jpeg4py                       0.1.4\n",
      "jsonschema                    2.6.0\n",
      "jupyter                       1.0.0\n",
      "jupyter-client                5.3.5\n",
      "jupyter-console               5.2.0\n",
      "jupyter-core                  4.8.1\n",
      "jupyterlab-pygments           0.1.2\n",
      "jupyterlab-widgets            1.0.2\n",
      "kaggle                        1.5.12\n",
      "kapre                         0.3.5\n",
      "Keras                         2.2.4\n",
      "Keras-Applications            1.0.8\n",
      "Keras-Preprocessing           1.1.2\n",
      "keras-vis                     0.4.1\n",
      "kiwisolver                    1.3.2\n",
      "korean-lunar-calendar         0.2.1\n",
      "librosa                       0.8.1\n",
      "lightgbm                      2.2.3\n",
      "llvmlite                      0.34.0\n",
      "lmdb                          0.99\n",
      "LunarCalendar                 0.0.9\n",
      "lxml                          4.2.6\n",
      "Markdown                      3.3.4\n",
      "MarkupSafe                    2.0.1\n",
      "matplotlib                    3.2.2\n",
      "matplotlib-inline             0.1.3\n",
      "matplotlib-venn               0.11.6\n",
      "missingno                     0.5.0\n",
      "mistune                       0.8.4\n",
      "mizani                        0.6.0\n",
      "mkl                           2019.0\n",
      "mlxtend                       0.14.0\n",
      "more-itertools                8.10.0\n",
      "moviepy                       0.2.3.5\n",
      "mpmath                        1.2.1\n",
      "msgpack                       1.0.2\n",
      "multiprocess                  0.70.12.2\n",
      "multitasking                  0.0.9\n",
      "murmurhash                    1.0.5\n",
      "music21                       5.5.0\n",
      "natsort                       5.5.0\n",
      "nbclient                      0.5.4\n",
      "nbconvert                     5.6.1\n",
      "nbformat                      5.1.3\n",
      "nest-asyncio                  1.5.1\n",
      "netCDF4                       1.5.7\n",
      "networkx                      2.6.3\n",
      "nibabel                       3.0.2\n",
      "nltk                          3.2.5\n",
      "notebook                      5.3.1\n",
      "numba                         0.51.2\n",
      "numexpr                       2.7.3\n",
      "numpy                         1.18.5\n",
      "nvidia-ml-py3                 7.352.0\n",
      "oauth2client                  4.1.3\n",
      "oauthlib                      3.1.1\n",
      "okgrade                       0.4.3\n",
      "opencv-contrib-python         4.1.2.30\n",
      "opencv-python                 4.1.2.30\n",
      "openpyxl                      2.5.9\n",
      "opt-einsum                    3.3.0\n",
      "osqp                          0.6.2.post0\n",
      "packaging                     21.0\n",
      "palettable                    3.3.0\n",
      "pandas                        1.1.5\n",
      "pandas-datareader             0.9.0\n",
      "pandas-gbq                    0.13.3\n",
      "pandas-profiling              1.4.1\n",
      "pandocfilters                 1.5.0\n",
      "panel                         0.12.1\n",
      "param                         1.11.1\n",
      "parso                         0.8.2\n",
      "pathlib                       1.0.1\n",
      "patsy                         0.5.2\n",
      "pep517                        0.11.0\n",
      "pexpect                       4.8.0\n",
      "pickleshare                   0.7.5\n",
      "Pillow                        7.1.2\n",
      "pip                           21.1.3\n",
      "pip-tools                     6.2.0\n",
      "plac                          1.1.3\n",
      "plotly                        4.4.1\n",
      "plotnine                      0.6.0\n",
      "pluggy                        0.7.1\n",
      "pooch                         1.5.1\n",
      "portpicker                    1.3.9\n",
      "prefetch-generator            1.0.1\n",
      "preshed                       3.0.5\n",
      "prettytable                   2.2.1\n",
      "progressbar2                  3.38.0\n",
      "prometheus-client             0.11.0\n",
      "promise                       2.3\n",
      "prompt-toolkit                1.0.18\n",
      "protobuf                      3.17.3\n",
      "psutil                        5.4.8\n",
      "psycopg2                      2.7.6.1\n",
      "ptyprocess                    0.7.0\n",
      "py                            1.10.0\n",
      "pyarrow                       3.0.0\n",
      "pyasn1                        0.4.8\n",
      "pyasn1-modules                0.2.8\n",
      "pycocotools                   2.0.2\n",
      "pycparser                     2.20\n",
      "pyct                          0.4.8\n",
      "pydata-google-auth            1.2.0\n",
      "pydot                         1.3.0\n",
      "pydot-ng                      2.0.0\n",
      "pydotplus                     2.0.2\n",
      "PyDrive                       1.3.1\n",
      "pyemd                         0.5.1\n",
      "pyerfa                        2.0.0\n",
      "pyglet                        1.5.0\n",
      "Pygments                      2.6.1\n",
      "pygobject                     3.26.1\n",
      "pymc3                         3.11.4\n",
      "PyMeeus                       0.5.11\n",
      "pymongo                       3.12.0\n",
      "pymystem3                     0.2.0\n",
      "PyOpenGL                      3.1.5\n",
      "pyparsing                     2.4.7\n",
      "pyrsistent                    0.18.0\n",
      "pysndfile                     1.3.8\n",
      "PySocks                       1.7.1\n",
      "pystan                        2.19.1.1\n",
      "pytest                        3.6.4\n",
      "python-apt                    0.0.0\n",
      "python-chess                  0.23.11\n",
      "python-dateutil               2.8.2\n",
      "python-louvain                0.15\n",
      "python-slugify                5.0.2\n",
      "python-utils                  2.5.6\n",
      "pytz                          2018.9\n",
      "pyviz-comms                   2.1.0\n",
      "PyWavelets                    1.1.1\n",
      "PyYAML                        3.13\n",
      "pyzmq                         22.3.0\n",
      "qdldl                         0.1.5.post0\n",
      "qtconsole                     5.1.1\n",
      "QtPy                          1.11.2\n",
      "regex                         2019.12.20\n",
      "requests                      2.23.0\n",
      "requests-oauthlib             1.3.0\n",
      "resampy                       0.2.2\n",
      "retrying                      1.3.3\n",
      "rpy2                          3.4.5\n",
      "rsa                           4.7.2\n",
      "scikit-image                  0.16.2\n",
      "scikit-learn                  0.22.2.post1\n",
      "scipy                         1.4.1\n",
      "screen-resolution-extra       0.0.0\n",
      "scs                           2.1.4\n",
      "seaborn                       0.11.2\n",
      "semver                        2.13.0\n",
      "Send2Trash                    1.8.0\n",
      "setuptools                    57.4.0\n",
      "setuptools-git                1.2\n",
      "Shapely                       1.7.1\n",
      "simplegeneric                 0.8.1\n",
      "six                           1.15.0\n",
      "sklearn                       0.0\n",
      "sklearn-pandas                1.8.0\n",
      "smart-open                    5.2.1\n",
      "snowballstemmer               2.1.0\n",
      "sortedcontainers              2.4.0\n",
      "SoundFile                     0.10.3.post1\n",
      "spacy                         2.2.4\n",
      "Sphinx                        1.8.5\n",
      "sphinxcontrib-serializinghtml 1.1.5\n",
      "sphinxcontrib-websupport      1.2.4\n",
      "SQLAlchemy                    1.4.25\n",
      "sqlparse                      0.4.2\n",
      "srsly                         1.0.5\n",
      "statsmodels                   0.10.2\n",
      "sympy                         1.7.1\n",
      "tables                        3.4.4\n",
      "tabulate                      0.8.9\n",
      "tblib                         1.7.0\n",
      "tensorboard                   1.15.0\n",
      "tensorboard-data-server       0.6.1\n",
      "tensorboard-plugin-wit        1.8.0\n",
      "tensorflow                    1.15.5\n",
      "tensorflow-datasets           4.0.1\n",
      "tensorflow-estimator          1.15.1\n",
      "tensorflow-gcs-config         2.6.0\n",
      "tensorflow-gpu                1.15.5\n",
      "tensorflow-hub                0.12.0\n",
      "tensorflow-metadata           1.2.0\n",
      "tensorflow-probability        0.14.1\n",
      "termcolor                     1.1.0\n",
      "terminado                     0.12.1\n",
      "testpath                      0.5.0\n",
      "text-unidecode                1.3\n",
      "textblob                      0.15.3\n",
      "Theano-PyMC                   1.1.2\n",
      "thinc                         7.4.0\n",
      "tifffile                      2021.8.30\n",
      "toml                          0.10.2\n",
      "tomli                         1.2.1\n",
      "toolz                         0.11.1\n",
      "torch                         1.9.0+cu111\n",
      "torchsummary                  1.5.1\n",
      "torchtext                     0.10.0\n",
      "torchvision                   0.10.0+cu111\n",
      "tornado                       5.1.1\n",
      "tqdm                          4.62.3\n",
      "traitlets                     5.1.0\n",
      "tweepy                        3.10.0\n",
      "typeguard                     2.7.1\n",
      "typing-extensions             3.7.4.3\n",
      "tzlocal                       1.5.1\n",
      "uritemplate                   3.0.1\n",
      "urllib3                       1.24.3\n",
      "vega-datasets                 0.9.0\n",
      "wasabi                        0.8.2\n",
      "wcwidth                       0.2.5\n",
      "webencodings                  0.5.1\n",
      "Werkzeug                      1.0.1\n",
      "wheel                         0.37.0\n",
      "widgetsnbextension            3.5.1\n",
      "wordcloud                     1.5.0\n",
      "wrapt                         1.12.1\n",
      "xarray                        0.18.2\n",
      "xgboost                       0.90\n",
      "xkit                          0.0.0\n",
      "xlrd                          1.1.0\n",
      "xlwt                          1.3.0\n",
      "yellowbrick                   0.9.1\n",
      "zict                          2.0.0\n",
      "zipp                          3.6.0\n"
     ]
    }
   ],
   "source": [
    "# !pip list"
   ]
  },
  {
   "cell_type": "markdown",
   "metadata": {
    "id": "5T2qRnIDIS1c"
   },
   "source": [
    "Then mount Drive and copy the code library from drive to current workspace"
   ]
  },
  {
   "cell_type": "code",
   "execution_count": null,
   "metadata": {
    "colab": {
     "base_uri": "https://localhost:8080/"
    },
    "executionInfo": {
     "elapsed": 23522,
     "status": "ok",
     "timestamp": 1634825428530,
     "user": {
      "displayName": "Vincent Arvis",
      "photoUrl": "https://lh3.googleusercontent.com/a/default-user=s64",
      "userId": "03022435005707508571"
     },
     "user_tz": -120
    },
    "id": "SpJ5OjXBITcr",
    "outputId": "88e09d4d-889c-461e-b7ca-50086608631b"
   },
   "outputs": [
    {
     "name": "stdout",
     "output_type": "stream",
     "text": [
      "Mounted at /content/drive\n"
     ]
    }
   ],
   "source": [
    "# from google.colab import drive\n",
    "# drive.mount('/content/drive')"
   ]
  },
  {
   "cell_type": "code",
   "execution_count": null,
   "metadata": {
    "colab": {
     "base_uri": "https://localhost:8080/"
    },
    "executionInfo": {
     "elapsed": 18557,
     "status": "ok",
     "timestamp": 1634825465799,
     "user": {
      "displayName": "Vincent Arvis",
      "photoUrl": "https://lh3.googleusercontent.com/a/default-user=s64",
      "userId": "03022435005707508571"
     },
     "user_tz": -120
    },
    "id": "T_J8NVhHIWg0",
    "outputId": "0b312347-5f69-4c96-f5b6-b3a2939440cc"
   },
   "outputs": [
    {
     "data": {
      "text/plain": [
       "['./ssd7_training.ipynb',\n",
       " './ssd300_inference.ipynb',\n",
       " './ssd300_evaluation.ipynb',\n",
       " './CONTRIBUTING.md',\n",
       " './ssd300_evaluation_COCO.ipynb',\n",
       " './ssd300_training.ipynb',\n",
       " './weight_sampling_tutorial.ipynb',\n",
       " './README.md',\n",
       " './ISSUE_TEMPLATE.md',\n",
       " './__init__.py',\n",
       " './LICENSE.txt',\n",
       " './ssd512_inference.ipynb',\n",
       " './create_train_val_txt_files.py',\n",
       " './main_predict.py',\n",
       " './get_num_classes.py',\n",
       " './main_train.py',\n",
       " './training_summaries/ssd300_pascal_07+12_loss_history.png',\n",
       " './training_summaries/ssd300_pascal_07+12_training_summary.md',\n",
       " './eval_utils/coco_utils.py',\n",
       " './eval_utils/__init__.py',\n",
       " './eval_utils/average_precision_evaluator.py',\n",
       " './misc_utils/__init__.py',\n",
       " './misc_utils/tensor_sampling_utils.py',\n",
       " './tests/test_sample.py',\n",
       " './tests/__init__.py',\n",
       " './bounding_box_utils/__pycache__/bounding_box_utils.cpython-36.pyc',\n",
       " './bounding_box_utils/__pycache__/__init__.cpython-36.pyc',\n",
       " './bounding_box_utils/bounding_box_utils.py',\n",
       " './bounding_box_utils/__init__.py',\n",
       " './keras_layers/keras_layer_L2Normalization.py',\n",
       " './keras_layers/__pycache__/keras_layer_AnchorBoxes.cpython-36.pyc',\n",
       " './keras_layers/__pycache__/keras_layer_DecodeDetections.cpython-36.pyc',\n",
       " './keras_layers/__pycache__/keras_layer_DecodeDetectionsFast.cpython-36.pyc',\n",
       " './keras_layers/__pycache__/__init__.cpython-36.pyc',\n",
       " './keras_layers/keras_layer_AnchorBoxes.py',\n",
       " './keras_layers/keras_layer_DecodeDetections.py',\n",
       " './keras_layers/__init__.py',\n",
       " './keras_layers/keras_layer_DecodeDetectionsFast.py',\n",
       " './data_generator/data_augmentation_chain_satellite.py',\n",
       " './data_generator/__pycache__/data_augmentation_chain_constant_input_size.cpython-36.pyc',\n",
       " './data_generator/__pycache__/data_augmentation_chain_original_ssd.cpython-36.pyc',\n",
       " './data_generator/__pycache__/data_augmentation_chain_variable_input_size.cpython-36.pyc',\n",
       " './data_generator/__pycache__/object_detection_2d_data_generator.cpython-36.pyc',\n",
       " './data_generator/__pycache__/object_detection_2d_geometric_ops.cpython-36.pyc',\n",
       " './data_generator/__pycache__/object_detection_2d_image_boxes_validation_utils.cpython-36.pyc',\n",
       " './data_generator/__pycache__/object_detection_2d_misc_utils.cpython-36.pyc',\n",
       " './data_generator/__pycache__/object_detection_2d_patch_sampling_ops.cpython-36.pyc',\n",
       " './data_generator/__pycache__/object_detection_2d_photometric_ops.cpython-36.pyc',\n",
       " './data_generator/__pycache__/__init__.cpython-36.pyc',\n",
       " './data_generator/data_augmentation_chain_constant_input_size.py',\n",
       " './data_generator/data_augmentation_chain_original_ssd.py',\n",
       " './data_generator/data_augmentation_chain_variable_input_size.py',\n",
       " './data_generator/object_detection_2d_data_generator.py',\n",
       " './data_generator/object_detection_2d_image_boxes_validation_utils.py',\n",
       " './data_generator/object_detection_2d_geometric_ops.py',\n",
       " './data_generator/object_detection_2d_misc_utils.py',\n",
       " './data_generator/object_detection_2d_patch_sampling_ops.py',\n",
       " './data_generator/object_detection_2d_photometric_ops.py',\n",
       " './data_generator/__init__.py',\n",
       " './keras_loss_function/__pycache__/__init__.cpython-36.pyc',\n",
       " './keras_loss_function/__pycache__/keras_ssd_loss.cpython-36.pyc',\n",
       " './keras_loss_function/keras_ssd_loss.py',\n",
       " './keras_loss_function/__init__.py',\n",
       " './models/keras_ssd300.py',\n",
       " './models/keras_ssd512.py',\n",
       " './models/keras_ssd7.py',\n",
       " './models/__pycache__/keras_ssd.cpython-36.pyc',\n",
       " './models/__pycache__/__init__.cpython-36.pyc',\n",
       " './models/keras_ssd.py',\n",
       " './models/__init__.py',\n",
       " './ssd_encoder_decoder/__pycache__/matching_utils.cpython-36.pyc',\n",
       " './ssd_encoder_decoder/__pycache__/ssd_input_encoder.cpython-36.pyc',\n",
       " './ssd_encoder_decoder/__pycache__/ssd_output_decoder.cpython-36.pyc',\n",
       " './ssd_encoder_decoder/__pycache__/__init__.cpython-36.pyc',\n",
       " './ssd_encoder_decoder/matching_utils.py',\n",
       " './ssd_encoder_decoder/ssd_input_encoder.py',\n",
       " './ssd_encoder_decoder/ssd_output_decoder.py',\n",
       " './ssd_encoder_decoder/__init__.py']"
      ]
     },
     "execution_count": 2,
     "metadata": {},
     "output_type": "execute_result"
    }
   ],
   "source": [
    "# from distutils.dir_util import copy_tree\n",
    "# copy_tree(\"/content/drive/MyDrive/Colab Notebooks/SSD_library\", \"./\")"
   ]
  },
  {
   "cell_type": "markdown",
   "metadata": {},
   "source": [
    "## Without google collab, start here:"
   ]
  },
  {
   "cell_type": "code",
   "execution_count": 1,
   "metadata": {
    "colab": {
     "base_uri": "https://localhost:8080/"
    },
    "executionInfo": {
     "elapsed": 3125,
     "status": "ok",
     "timestamp": 1634825474665,
     "user": {
      "displayName": "Vincent Arvis",
      "photoUrl": "https://lh3.googleusercontent.com/a/default-user=s64",
      "userId": "03022435005707508571"
     },
     "user_tz": -120
    },
    "id": "ib11rIHW1rzk",
    "outputId": "2355eb9a-14ca-46d2-e92f-609a2f6a11b0"
   },
   "outputs": [
    {
     "name": "stderr",
     "output_type": "stream",
     "text": [
      "Using TensorFlow backend.\n"
     ]
    }
   ],
   "source": [
    "#test\n",
    "from keras import backend as K\n",
    "from keras.models import load_model\n",
    "from keras.optimizers import Adam\n",
    "#from imageio import imread\n",
    "import numpy as np\n",
    "from matplotlib import pyplot as plt\n",
    "\n",
    "from models.keras_ssd300 import ssd_300\n",
    "from keras_loss_function.keras_ssd_loss import SSDLoss\n",
    "from keras_layers.keras_layer_AnchorBoxes import AnchorBoxes\n",
    "from keras_layers.keras_layer_DecodeDetections import DecodeDetections\n",
    "from keras_layers.keras_layer_DecodeDetectionsFast import DecodeDetectionsFast\n",
    "from keras_layers.keras_layer_L2Normalization import L2Normalization\n",
    "from data_generator.object_detection_2d_data_generator import DataGenerator\n",
    "from eval_utils.average_precision_evaluator import Evaluator\n",
    "\n",
    "%matplotlib inline"
   ]
  },
  {
   "cell_type": "code",
   "execution_count": 2,
   "metadata": {
    "id": "5h2Lf7051rzl"
   },
   "outputs": [],
   "source": [
    "# Set a few configuration parameters.\n",
    "img_height = 300\n",
    "img_width = 300\n",
    "# todo: choose your number of positives classes\n",
    "n_classes = 8\n",
    "model_mode = 'training'"
   ]
  },
  {
   "cell_type": "markdown",
   "metadata": {
    "id": "TCi8Lch91rzm"
   },
   "source": [
    "## 1. Load a trained SSD\n",
    "\n",
    "Either load a trained model or build a model and load trained weights into it. Since the HDF5 files I'm providing contain only the weights for the various SSD versions, not the complete models, you'll have to go with the latter option when using this implementation for the first time. You can then of course save the model and next time load the full model directly, without having to build it.\n",
    "\n",
    "You can find the download links to all the trained model weights in the README."
   ]
  },
  {
   "cell_type": "markdown",
   "metadata": {
    "id": "5you2iMP1rzo"
   },
   "source": [
    "### 1.2. Load a trained model\n",
    "\n",
    "We set `model_mode` to 'inference' above, so the evaluator expects that you load a model that was built in 'inference' mode. If you're loading a model that was built in 'training' mode, change the `model_mode` parameter accordingly."
   ]
  },
  {
   "cell_type": "code",
   "execution_count": 1,
   "metadata": {
    "colab": {
     "base_uri": "https://localhost:8080/"
    },
    "executionInfo": {
     "elapsed": 7021,
     "status": "ok",
     "timestamp": 1634825524763,
     "user": {
      "displayName": "Vincent Arvis",
      "photoUrl": "https://lh3.googleusercontent.com/a/default-user=s64",
      "userId": "03022435005707508571"
     },
     "user_tz": -120
    },
    "id": "FS7sHX-s1rzp",
    "outputId": "c044549c-a2c0-4d41-d626-5719a402acab"
   },
   "outputs": [
    {
     "ename": "NameError",
     "evalue": "name 'SSDLoss' is not defined",
     "output_type": "error",
     "traceback": [
      "\u001b[1;31m---------------------------------------------------------------------------\u001b[0m",
      "\u001b[1;31mNameError\u001b[0m                                 Traceback (most recent call last)",
      "\u001b[1;32m~\\AppData\\Local\\Temp\\ipykernel_13568\\3042800630.py\u001b[0m in \u001b[0;36m<module>\u001b[1;34m\u001b[0m\n\u001b[0;32m      3\u001b[0m \u001b[1;33m\u001b[0m\u001b[0m\n\u001b[0;32m      4\u001b[0m \u001b[1;31m# We need to create an SSDLoss object in order to pass that to the model loader.\u001b[0m\u001b[1;33m\u001b[0m\u001b[1;33m\u001b[0m\u001b[1;33m\u001b[0m\u001b[0m\n\u001b[1;32m----> 5\u001b[1;33m \u001b[0mssd_loss\u001b[0m \u001b[1;33m=\u001b[0m \u001b[0mSSDLoss\u001b[0m\u001b[1;33m(\u001b[0m\u001b[0mneg_pos_ratio\u001b[0m\u001b[1;33m=\u001b[0m\u001b[1;36m3\u001b[0m\u001b[1;33m,\u001b[0m \u001b[0malpha\u001b[0m\u001b[1;33m=\u001b[0m\u001b[1;36m1.0\u001b[0m\u001b[1;33m)\u001b[0m\u001b[1;33m\u001b[0m\u001b[1;33m\u001b[0m\u001b[0m\n\u001b[0m\u001b[0;32m      6\u001b[0m \u001b[1;33m\u001b[0m\u001b[0m\n\u001b[0;32m      7\u001b[0m \u001b[0mK\u001b[0m\u001b[1;33m.\u001b[0m\u001b[0mclear_session\u001b[0m\u001b[1;33m(\u001b[0m\u001b[1;33m)\u001b[0m \u001b[1;31m# Clear previous models from memory.\u001b[0m\u001b[1;33m\u001b[0m\u001b[1;33m\u001b[0m\u001b[0m\n",
      "\u001b[1;31mNameError\u001b[0m: name 'SSDLoss' is not defined"
     ]
    }
   ],
   "source": [
    "# TODO: Set the path to the `.h5` file of the model to be loaded.\n",
    "model_path = r'Model.h5'\n",
    "\n",
    "# We need to create an SSDLoss object in order to pass that to the model loader.\n",
    "ssd_loss = SSDLoss(neg_pos_ratio=3, alpha=1.0)\n",
    "\n",
    "K.clear_session() # Clear previous models from memory.\n",
    "\n",
    "model = load_model(model_path, custom_objects={'AnchorBoxes': AnchorBoxes,\n",
    "                                               'L2Normalization': L2Normalization,\n",
    "                                               'DecodeDetections': DecodeDetections,\n",
    "                                               'compute_loss': ssd_loss.compute_loss})"
   ]
  },
  {
   "cell_type": "markdown",
   "metadata": {
    "id": "wizQ3O3X1rzp"
   },
   "source": [
    "## 2. Create a data generator for the evaluation dataset\n",
    "\n",
    "Instantiate a `DataGenerator` that will serve the evaluation dataset during the prediction phase."
   ]
  },
  {
   "cell_type": "code",
   "execution_count": 7,
   "metadata": {
    "id": "qQtDBaSo1rzp"
   },
   "outputs": [],
   "source": [
    "dataset = DataGenerator()\n",
    "# TODO: Set the paths to your dataset here.\n",
    "\n",
    "# Images\n",
    "working_dir = r'your path'\n",
    "images_dir = working_dir + r'\\BaseTU\\Xsmall_TU'\n",
    "\n",
    "# Ground truth\n",
    "annotations_dir = working_dir + '/BaseTU/Xsmall_TU'\n",
    "image_set_filename_train = working_dir + '/BaseTU/image_names_train.txt'\n",
    "image_set_filename_val = working_dir + '/BaseTU/image_names_val.txt'\n",
    "\n",
    "# todo: define your classes\n",
    "# classes = ['background', 'temoin:0', 'temoin:25']\n",
    "\n",
    "train_dataset_path = working_dir + '/TU300_Xsmall_train.h5'\n",
    "val_dataset_path = working_dir + '/TU300_Xsmall_val.h5'"
   ]
  },
  {
   "cell_type": "code",
   "execution_count": 8,
   "metadata": {
    "colab": {
     "base_uri": "https://localhost:8080/"
    },
    "executionInfo": {
     "elapsed": 5439,
     "status": "ok",
     "timestamp": 1634825654423,
     "user": {
      "displayName": "Vincent Arvis",
      "photoUrl": "https://lh3.googleusercontent.com/a/default-user=s64",
      "userId": "03022435005707508571"
     },
     "user_tz": -120
    },
    "id": "PW9ovZJTM0dz",
    "outputId": "90c9f87b-a2b0-4871-8f69-f450277d5081"
   },
   "outputs": [
    {
     "name": "stdout",
     "output_type": "stream",
     "text": [
      "Loading labels: 100%|██████████████████████████████████████████████████████████████| 256/256 [00:00<00:00, 4397.07it/s]\n",
      "Loading image IDs: 100%|███████████████████████████████████████████████████████████| 256/256 [00:00<00:00, 9135.97it/s]\n",
      "Loading evaluation-neutrality annotations: 100%|███████████████████████████████████| 256/256 [00:00<00:00, 7103.91it/s]\n"
     ]
    }
   ],
   "source": [
    "# reload existing dataset\n",
    "dataset = DataGenerator(load_images_into_memory=False, hdf5_dataset_path=val_dataset_path)\n"
   ]
  },
  {
   "cell_type": "markdown",
   "metadata": {
    "id": "H00-QSYcM_ws"
   },
   "source": [
    "or build a new one"
   ]
  },
  {
   "cell_type": "code",
   "execution_count": null,
   "metadata": {
    "id": "CT16vYrdMyAM"
   },
   "outputs": [],
   "source": [
    "\n",
    "dataset.parse_xml(images_dirs=[images_dir],\n",
    "                  image_set_filenames=[image_set_filename_val],\n",
    "                  annotations_dirs=[annotations_dir],\n",
    "                  classes=classes,\n",
    "                  include_classes='all',\n",
    "                  exclude_truncated=False,\n",
    "                  exclude_difficult=False,\n",
    "                  ret=False)"
   ]
  },
  {
   "cell_type": "markdown",
   "metadata": {
    "id": "Kzg6IaKw1rzq"
   },
   "source": [
    "## 3. Run the evaluation\n",
    "\n",
    "Now that we have instantiated a model and a data generator to serve the dataset, we can set up the evaluator and run the evaluation.\n",
    "\n",
    "The evaluator is quite flexible: It can compute the average precisions according to the Pascal VOC pre-2010 algorithm, which samples 11 equidistant points of the precision-recall curves, or according to the Pascal VOC post-2010 algorithm, which integrates numerically over the entire precision-recall curves instead of sampling a few individual points. You could also change the number of sampled recall points or the required IoU overlap for a prediction to be considered a true positive, among other things. Check out the `Evaluator`'s documentation for details on all the arguments.\n",
    "\n",
    "In its default settings, the evaluator's algorithm is identical to the official Pascal VOC pre-2010 Matlab detection evaluation algorithm, so you don't really need to tweak anything unless you want to.\n",
    "\n",
    "The evaluator roughly performs the following steps: It runs predictions over the entire given dataset, then it matches these predictions to the ground truth boxes, then it computes the precision-recall curves for each class, then it samples 11 equidistant points from these precision-recall curves to compute the average precision for each class, and finally it computes the mean average precision over all classes."
   ]
  },
  {
   "cell_type": "code",
   "execution_count": 9,
   "metadata": {
    "id": "k34U1bMqa4c9"
   },
   "outputs": [],
   "source": [
    "evaluator = Evaluator(model=model,\n",
    "                      n_classes=n_classes,\n",
    "                      data_generator=dataset,\n",
    "                      model_mode=model_mode)"
   ]
  },
  {
   "cell_type": "code",
   "execution_count": 13,
   "metadata": {
    "colab": {
     "base_uri": "https://localhost:8080/"
    },
    "executionInfo": {
     "elapsed": 282713,
     "status": "ok",
     "timestamp": 1634830181220,
     "user": {
      "displayName": "Vincent Arvis",
      "photoUrl": "https://lh3.googleusercontent.com/a/default-user=s64",
      "userId": "03022435005707508571"
     },
     "user_tz": -120
    },
    "id": "hraWAg6Q1rzr",
    "outputId": "5e7bb44f-c715-42c6-ae67-0eab58e004f9",
    "scrolled": false
   },
   "outputs": [
    {
     "name": "stdout",
     "output_type": "stream",
     "text": [
      "Number of images in the evaluation dataset: 256\n",
      "\n",
      "Producing predictions batch-wise: 100%|████████████████████████████████████████████████| 32/32 [04:05<00:00,  7.67s/it]\n",
      "Matching predictions to ground truth, class 1/4.: 100%|███████████████████████████| 238/238 [00:00<00:00, 19776.61it/s]\n",
      "Matching predictions to ground truth, class 2/4.: 100%|███████████████████████████| 119/119 [00:00<00:00, 19846.60it/s]\n",
      "Matching predictions to ground truth, class 3/4.: 100%|█████████████████████████████| 94/94 [00:00<00:00, 18864.33it/s]\n",
      "Matching predictions to ground truth, class 4/4.: 100%|███████████████████████| 50749/50749 [00:02<00:00, 19972.06it/s]\n",
      "Computing precisions and recalls, class 1/4\n",
      "Computing precisions and recalls, class 2/4\n",
      "Computing precisions and recalls, class 3/4\n",
      "Computing precisions and recalls, class 4/4\n",
      "Computing average precision, class 1/4\n",
      "Computing average precision, class 2/4\n",
      "Computing average precision, class 3/4\n",
      "Computing average precision, class 4/4\n"
     ]
    }
   ],
   "source": [
    "results = evaluator(img_height=img_height,\n",
    "                    img_width=img_width,\n",
    "                    batch_size=8,\n",
    "                    data_generator_mode='resize',\n",
    "                    round_confidences=False,\n",
    "                    matching_iou_threshold=0.5,\n",
    "                    border_pixels='include',\n",
    "                    sorting_algorithm='quicksort',\n",
    "                    average_precision_mode='sample',\n",
    "                    num_recall_points=11,\n",
    "                    ignore_neutral_boxes=False,\n",
    "                    return_precisions=True,\n",
    "                    return_recalls=True,\n",
    "                    return_average_precisions=True,\n",
    "                    verbose=True)\n",
    "\n",
    "mean_average_precision, average_precisions, precisions, recalls = results\n",
    "\n"
   ]
  },
  {
   "cell_type": "code",
   "execution_count": 11,
   "metadata": {
    "colab": {
     "base_uri": "https://localhost:8080/",
     "height": 414
    },
    "executionInfo": {
     "elapsed": 429,
     "status": "error",
     "timestamp": 1634830582407,
     "user": {
      "displayName": "Vincent Arvis",
      "photoUrl": "https://lh3.googleusercontent.com/a/default-user=s64",
      "userId": "03022435005707508571"
     },
     "user_tz": -120
    },
    "id": "prQZGELCbNyD",
    "outputId": "258cf4a3-0d04-4c84-b18c-3f469e907a82"
   },
   "outputs": [
    {
     "name": "stdout",
     "output_type": "stream",
     "text": [
      "Writing results file for class 1/4.\n",
      "Writing results file for class 2/4.\n",
      "Writing results file for class 3/4.\n",
      "Writing results file for class 4/4.\n",
      "All results files saved.\n"
     ]
    }
   ],
   "source": [
    "\n",
    "evaluator.write_predictions_to_txt(classes=classes,\n",
    "                                 out_file_prefix=working_dir + '/BaseTU/eval300small',\n",
    "                                 verbose=True)"
   ]
  },
  {
   "cell_type": "markdown",
   "metadata": {
    "collapsed": true,
    "id": "zdsYSYFy1rzr"
   },
   "source": [
    "## 4. Visualize the results\n",
    "\n",
    "Let's take a look:"
   ]
  },
  {
   "cell_type": "code",
   "execution_count": 14,
   "metadata": {
    "colab": {
     "base_uri": "https://localhost:8080/"
    },
    "executionInfo": {
     "elapsed": 319,
     "status": "ok",
     "timestamp": 1634825975924,
     "user": {
      "displayName": "Vincent Arvis",
      "photoUrl": "https://lh3.googleusercontent.com/a/default-user=s64",
      "userId": "03022435005707508571"
     },
     "user_tz": -120
    },
    "id": "ix6s19l81rzr",
    "outputId": "d83da623-7494-40f9-dc60-5ec1c78d13a4"
   },
   "outputs": [
    {
     "name": "stdout",
     "output_type": "stream",
     "text": [
      "temoin:25     AP    0.61\n",
      "temoin:50     AP    0.523\n",
      "temoin:75     AP    0.65\n",
      "temoin:100    AP    0.778\n",
      "\n",
      "              mAP   0.64\n"
     ]
    }
   ],
   "source": [
    "for i in range(1, len(average_precisions)):\n",
    "    print(\"{:<14}{:<6}{}\".format(classes[i], 'AP', round(average_precisions[i], 3)))\n",
    "print()\n",
    "print(\"{:<14}{:<6}{}\".format('','mAP', round(mean_average_precision, 3)))"
   ]
  },
  {
   "cell_type": "code",
   "execution_count": 15,
   "metadata": {
    "colab": {
     "base_uri": "https://localhost:8080/",
     "height": 845
    },
    "executionInfo": {
     "elapsed": 1093,
     "status": "ok",
     "timestamp": 1634826035050,
     "user": {
      "displayName": "Vincent Arvis",
      "photoUrl": "https://lh3.googleusercontent.com/a/default-user=s64",
      "userId": "03022435005707508571"
     },
     "user_tz": -120
    },
    "id": "7QNA4VaO1rzr",
    "outputId": "6b41a327-25fc-476b-ecbd-35fae1c754f1",
    "scrolled": false
   },
   "outputs": [
    {
     "data": {
      "image/png": "[encoded data removed]",
      "text/plain": [
       "<Figure size 1600x1600 with 4 Axes>"
      ]
     },
     "metadata": {},
     "output_type": "display_data"
    }
   ],
   "source": [
    "m = max((n_classes + 1) // 2, 2)\n",
    "n = 2\n",
    "\n",
    "fig, cells = plt.subplots(m, n, figsize=(n*8,m*8))\n",
    "for i in range(m):\n",
    "    for j in range(n):\n",
    "        if n*i+j+1 > n_classes: break\n",
    "        cells[i, j].plot(recalls[n*i+j+1], precisions[n*i+j+1], color='blue', linewidth=1.0)\n",
    "        cells[i, j].set_xlabel('recall', fontsize=14)\n",
    "        cells[i, j].set_ylabel('precision', fontsize=14)\n",
    "        cells[i, j].grid(True)\n",
    "        cells[i, j].set_xticks(np.linspace(0,1,11))\n",
    "        cells[i, j].set_yticks(np.linspace(0,1,11))\n",
    "        cells[i, j].set_title(\"{}, AP: {:.3f}\".format(classes[n*i+j+1], average_precisions[n*i+j+1]), fontsize=16)"
   ]
  },
  {
   "cell_type": "markdown",
   "metadata": {
    "id": "poeqaosy1rzs"
   },
   "source": [
    "## 5. Advanced use\n",
    "\n",
    "`Evaluator` objects maintain copies of all relevant intermediate results like predictions, precisions and recalls, etc., so in case you want to experiment with different parameters, e.g. different IoU overlaps, there is no need to compute the predictions all over again every time you make a change to a parameter. Instead, you can only update the computation from the point that is affected onwards.\n",
    "\n",
    "The evaluator's `__call__()` method is just a convenience wrapper that executes its other methods in the correct order. You could just call any of these other methods individually as shown below (but you have to make sure to call them in the correct order).\n",
    "\n",
    "Note that the example below uses the same evaluator object as above. Say you wanted to compute the Pascal VOC post-2010 'integrate' version of the average precisions instead of the pre-2010 version computed above. The evaluator object still has an internal copy of all the predictions, and since computing the predictions makes up the vast majority of the overall computation time and since the predictions aren't affected by changing the average precision computation mode, we skip computing the predictions again and instead only compute the steps that come after the prediction phase of the evaluation. We could even skip the matching part, since it isn't affected by changing the average precision mode either. In fact, we would only have to call `compute_average_precisions()` `compute_mean_average_precision()` again, but for the sake of illustration we'll re-do the other computations, too."
   ]
  },
  {
   "cell_type": "code",
   "execution_count": null,
   "metadata": {
    "id": "csyrZF1P1rzs",
    "outputId": "c545bc7e-d86a-4571-951a-7b34f9ca10fa"
   },
   "outputs": [
    {
     "name": "stdout",
     "output_type": "stream",
     "text": [
      "Matching predictions to ground truth, class 1/20.: 100%|██████████| 7902/7902 [00:00<00:00, 19849.68it/s]\n",
      "Matching predictions to ground truth, class 2/20.: 100%|██████████| 4276/4276 [00:00<00:00, 21798.36it/s]\n",
      "Matching predictions to ground truth, class 3/20.: 100%|██████████| 19126/19126 [00:00<00:00, 28263.72it/s]\n",
      "Matching predictions to ground truth, class 4/20.: 100%|██████████| 25291/25291 [00:01<00:00, 20847.78it/s]\n",
      "Matching predictions to ground truth, class 5/20.: 100%|██████████| 33520/33520 [00:00<00:00, 34610.95it/s]\n",
      "Matching predictions to ground truth, class 6/20.: 100%|██████████| 4395/4395 [00:00<00:00, 23612.98it/s]\n",
      "Matching predictions to ground truth, class 7/20.: 100%|██████████| 41833/41833 [00:02<00:00, 20821.01it/s]\n",
      "Matching predictions to ground truth, class 8/20.: 100%|██████████| 2740/2740 [00:00<00:00, 25909.74it/s]\n",
      "Matching predictions to ground truth, class 9/20.: 100%|██████████| 91992/91992 [00:03<00:00, 25150.58it/s]\n",
      "Matching predictions to ground truth, class 10/20.: 100%|██████████| 4085/4085 [00:00<00:00, 22590.90it/s]\n",
      "Matching predictions to ground truth, class 11/20.: 100%|██████████| 6912/6912 [00:00<00:00, 28966.61it/s]\n",
      "Matching predictions to ground truth, class 12/20.: 100%|██████████| 4294/4294 [00:00<00:00, 23105.94it/s]\n",
      "Matching predictions to ground truth, class 13/20.: 100%|██████████| 2779/2779 [00:00<00:00, 20409.40it/s]\n",
      "Matching predictions to ground truth, class 14/20.: 100%|██████████| 3003/3003 [00:00<00:00, 17314.28it/s]\n",
      "Matching predictions to ground truth, class 15/20.: 100%|██████████| 183522/183522 [00:09<00:00, 18903.68it/s]\n",
      "Matching predictions to ground truth, class 16/20.: 100%|██████████| 35198/35198 [00:01<00:00, 26489.65it/s]\n",
      "Matching predictions to ground truth, class 17/20.: 100%|██████████| 10535/10535 [00:00<00:00, 28867.54it/s]\n",
      "Matching predictions to ground truth, class 18/20.: 100%|██████████| 4371/4371 [00:00<00:00, 22087.65it/s]\n",
      "Matching predictions to ground truth, class 19/20.: 100%|██████████| 5768/5768 [00:00<00:00, 17063.02it/s]\n",
      "Matching predictions to ground truth, class 20/20.: 100%|██████████| 10860/10860 [00:00<00:00, 25999.09it/s]\n",
      "Computing precisions and recalls, class 1/20\n",
      "Computing precisions and recalls, class 2/20\n",
      "Computing precisions and recalls, class 3/20\n",
      "Computing precisions and recalls, class 4/20\n",
      "Computing precisions and recalls, class 5/20\n",
      "Computing precisions and recalls, class 6/20\n",
      "Computing precisions and recalls, class 7/20\n",
      "Computing precisions and recalls, class 8/20\n",
      "Computing precisions and recalls, class 9/20\n",
      "Computing precisions and recalls, class 10/20\n",
      "Computing precisions and recalls, class 11/20\n",
      "Computing precisions and recalls, class 12/20\n",
      "Computing precisions and recalls, class 13/20\n",
      "Computing precisions and recalls, class 14/20\n",
      "Computing precisions and recalls, class 15/20\n",
      "Computing precisions and recalls, class 16/20\n",
      "Computing precisions and recalls, class 17/20\n",
      "Computing precisions and recalls, class 18/20\n",
      "Computing precisions and recalls, class 19/20\n",
      "Computing precisions and recalls, class 20/20\n",
      "Computing average precision, class 1/20\n",
      "Computing average precision, class 2/20\n",
      "Computing average precision, class 3/20\n",
      "Computing average precision, class 4/20\n",
      "Computing average precision, class 5/20\n",
      "Computing average precision, class 6/20\n",
      "Computing average precision, class 7/20\n",
      "Computing average precision, class 8/20\n",
      "Computing average precision, class 9/20\n",
      "Computing average precision, class 10/20\n",
      "Computing average precision, class 11/20\n",
      "Computing average precision, class 12/20\n",
      "Computing average precision, class 13/20\n",
      "Computing average precision, class 14/20\n",
      "Computing average precision, class 15/20\n",
      "Computing average precision, class 16/20\n",
      "Computing average precision, class 17/20\n",
      "Computing average precision, class 18/20\n",
      "Computing average precision, class 19/20\n",
      "Computing average precision, class 20/20\n"
     ]
    }
   ],
   "source": [
    "evaluator.get_num_gt_per_class(ignore_neutral_boxes=True,\n",
    "                               verbose=False,\n",
    "                               ret=False)\n",
    "\n",
    "evaluator.match_predictions(ignore_neutral_boxes=True,\n",
    "                            matching_iou_threshold=0.5,\n",
    "                            border_pixels='include',\n",
    "                            sorting_algorithm='quicksort',\n",
    "                            verbose=True,\n",
    "                            ret=False)\n",
    "\n",
    "precisions, recalls = evaluator.compute_precision_recall(verbose=True, ret=True)\n",
    "\n",
    "average_precisions = evaluator.compute_average_precisions(mode='integrate',\n",
    "                                                          num_recall_points=11,\n",
    "                                                          verbose=True,\n",
    "                                                          ret=True)\n",
    "\n",
    "mean_average_precision = evaluator.compute_mean_average_precision(ret=True)"
   ]
  },
  {
   "cell_type": "code",
   "execution_count": null,
   "metadata": {
    "id": "EH7PbipG1rzs",
    "outputId": "7d94883f-08db-42c3-8d17-d82f1b438df8"
   },
   "outputs": [
    {
     "name": "stdout",
     "output_type": "stream",
     "text": [
      "aeroplane     AP    0.822\n",
      "bicycle       AP    0.874\n",
      "bird          AP    0.787\n",
      "boat          AP    0.713\n",
      "bottle        AP    0.505\n",
      "bus           AP    0.899\n",
      "car           AP    0.89\n",
      "cat           AP    0.923\n",
      "chair         AP    0.61\n",
      "cow           AP    0.845\n",
      "diningtable   AP    0.79\n",
      "dog           AP    0.899\n",
      "horse         AP    0.903\n",
      "motorbike     AP    0.875\n",
      "person        AP    0.825\n",
      "pottedplant   AP    0.526\n",
      "sheep         AP    0.811\n",
      "sofa          AP    0.83\n",
      "train         AP    0.906\n",
      "tvmonitor     AP    0.797\n",
      "\n",
      "              mAP   0.802\n"
     ]
    }
   ],
   "source": [
    "for i in range(1, len(average_precisions)):\n",
    "    print(\"{:<14}{:<6}{}\".format(classes[i], 'AP', round(average_precisions[i], 3)))\n",
    "print()\n",
    "print(\"{:<14}{:<6}{}\".format('','mAP', round(mean_average_precision, 3)))"
   ]
  }
 ],
 "metadata": {
  "colab": {
   "provenance": [
    {
     "file_id": "1-9HWgALrqL-OI5hRD6z4M_9x4p6iDgZm",
     "timestamp": 1695907190150
    }
   ]
  },
  "kernelspec": {
   "display_name": "env_tp_michelin",
   "language": "python",
   "name": "python3"
  },
  "language_info": {
   "codemirror_mode": {
    "name": "ipython",
    "version": 3
   },
   "file_extension": ".py",
   "mimetype": "text/x-python",
   "name": "python",
   "nbconvert_exporter": "python",
   "pygments_lexer": "ipython3",
   "version": "3.7.12"
  }
 },
 "nbformat": 4,
 "nbformat_minor": 1
}
